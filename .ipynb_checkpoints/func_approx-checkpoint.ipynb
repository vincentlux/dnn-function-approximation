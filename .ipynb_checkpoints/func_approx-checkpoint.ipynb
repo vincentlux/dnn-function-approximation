{
 "cells": [
  {
   "cell_type": "code",
   "execution_count": 16,
   "metadata": {},
   "outputs": [],
   "source": [
    "import numpy as np\n",
    "def forward(n, x):\n",
    "    layer = np.zeros(n)\n",
    "    # to record sum each time\n",
    "    record = np.zeros(n)\n",
    "    if x < 0.5 and x >= 0:\n",
    "        x_1 = 0\n",
    "    elif x >= 0.5 and x <= 1:\n",
    "        x_1 = 1\n",
    "    else:\n",
    "        print(\"out of range\")\n",
    "        return\n",
    "    layer[0] = x_1\n",
    "    record[0] = x - x_1/2\n",
    "    \n",
    "    if record[0] < 0.25:\n",
    "        layer[1] = 0\n",
    "    else:\n",
    "        layer[1] = 1\n",
    "    for i in range(1, n-1):\n",
    "        record[i] = record[i-1] - (layer[i]/(2^i))\n",
    "        if record[i] < 1/(2**(i+1)):\n",
    "            layer[i+1] = 0\n",
    "        else:\n",
    "            layer[i+1] = 1\n",
    "            \n",
    "    # Second dnn\n",
    "    approx = 0\n",
    "    # Calculate j summation\n",
    "    summation = 0\n",
    "    for i in range(n):\n",
    "        summation += layer[i]/(2**i)\n",
    "    # Calculate final value\n",
    "    for i in range(n):\n",
    "        # ReLU\n",
    "        if 0 > 2*(layer[i] - 1) + (1/(2**i))*summation:\n",
    "            approx += 0\n",
    "        else:\n",
    "            approx += 2*(layer[i] - 1) + (1/(2**i))*summation\n",
    "    # Loss\n",
    "    loss = np.abs(x**2 - approx)\n",
    "    \n",
    "    return approx, loss\n",
    "    \n"
   ]
  },
  {
   "cell_type": "code",
   "execution_count": 31,
   "metadata": {},
   "outputs": [
    {
     "name": "stderr",
     "output_type": "stream",
     "text": [
      "/anaconda/envs/py36/lib/python3.6/site-packages/ipykernel_launcher.py:21: RuntimeWarning: invalid value encountered in double_scalars\n"
     ]
    }
   ],
   "source": [
    "import math\n",
    "import random\n",
    "plot_approx = []\n",
    "plot_loss = []\n",
    "plot_x2 = []\n",
    "rand_list = []\n",
    "for i in range(10000):\n",
    "    rand = random.uniform(0, 1)\n",
    "    rand_list.append(rand)\n",
    "    approx, loss = forward(40, rand)\n",
    "    plot_approx.append(approx)\n",
    "    plot_loss.append(loss)\n",
    "    plot_x2.append(rand**2)"
   ]
  },
  {
   "cell_type": "code",
   "execution_count": 35,
   "metadata": {},
   "outputs": [
    {
     "data": {
      "text/plain": [
       "[<matplotlib.lines.Line2D at 0x117813cf8>]"
      ]
     },
     "execution_count": 35,
     "metadata": {},
     "output_type": "execute_result"
    },
    {
     "data": {
      "image/png": "[encoded data removed]",
      "text/plain": [
       "<Figure size 432x288 with 1 Axes>"
      ]
     },
     "metadata": {},
     "output_type": "display_data"
    }
   ],
   "source": [
    "import numpy as np\n",
    "import matplotlib.pyplot as plt\n",
    "plt.plot(rand_list, plot_loss)"
   ]
  },
  {
   "cell_type": "code",
   "execution_count": 19,
   "metadata": {},
   "outputs": [
    {
     "data": {
      "text/plain": [
       "0.4024999999972715"
      ]
     },
     "execution_count": 19,
     "metadata": {},
     "output_type": "execute_result"
    }
   ],
   "source": [
    "loss"
   ]
  },
  {
   "cell_type": "code",
   "execution_count": null,
   "metadata": {},
   "outputs": [],
   "source": []
  }
 ],
 "metadata": {
  "kernelspec": {
   "display_name": "Python 3",
   "language": "python",
   "name": "python3"
  },
  "language_info": {
   "codemirror_mode": {
    "name": "ipython",
    "version": 3
   },
   "file_extension": ".py",
   "mimetype": "text/x-python",
   "name": "python",
   "nbconvert_exporter": "python",
   "pygments_lexer": "ipython3",
   "version": "3.6.5"
  }
 },
 "nbformat": 4,
 "nbformat_minor": 2
}
